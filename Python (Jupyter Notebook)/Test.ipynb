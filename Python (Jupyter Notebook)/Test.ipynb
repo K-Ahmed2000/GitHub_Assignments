{
 "cells": [
  {
   "cell_type": "markdown",
   "id": "e6fc860b",
   "metadata": {},
   "source": [
    "# Python ka chilla with baba amaar\n",
    "## How to use jupyter notebook\n",
    "###  Basics of python\n",
    "1- My first program\n",
    "\n",
    "2- My 2nd program"
   ]
  },
  {
   "cell_type": "code",
   "execution_count": 1,
   "id": "e6eddb97",
   "metadata": {},
   "outputs": [
    {
     "name": "stdout",
     "output_type": "stream",
     "text": [
      "Hello World\n"
     ]
    }
   ],
   "source": [
    "print(\"Hello World\")"
   ]
  }
 ],
 "metadata": {
  "kernelspec": {
   "display_name": "Python 3 (ipykernel)",
   "language": "python",
   "name": "python3"
  },
  "language_info": {
   "codemirror_mode": {
    "name": "ipython",
    "version": 3
   },
   "file_extension": ".py",
   "mimetype": "text/x-python",
   "name": "python",
   "nbconvert_exporter": "python",
   "pygments_lexer": "ipython3",
   "version": "3.9.13"
  }
 },
 "nbformat": 4,
 "nbformat_minor": 5
}
