{
 "cells": [
  {
   "cell_type": "markdown",
   "id": "788b5938",
   "metadata": {},
   "source": [
    "## Body Mass Index\n",
    "- Input Weight\n",
    "- Height\n",
    "- BMI (ask yourself your height)\n",
    "- Weight\n",
    "- BMI (ask yourself your weight)\n",
    "- Print BMI (My name is ..... and My BMI is .....)"
   ]
  },
  {
   "cell_type": "markdown",
   "id": "4c7a7b3f",
   "metadata": {},
   "source": [
    "#### (Weight in Kg / Height in meter) and its Square"
   ]
  },
  {
   "cell_type": "code",
   "execution_count": 1,
   "id": "69bb0fb3",
   "metadata": {
    "scrolled": false
   },
   "outputs": [
    {
     "name": "stdout",
     "output_type": "stream",
     "text": [
      "What is your height? 1.74\n"
     ]
    }
   ],
   "source": [
    "height = input(\"What is your height? \")"
   ]
  },
  {
   "cell_type": "code",
   "execution_count": 2,
   "id": "6a5cf384",
   "metadata": {},
   "outputs": [],
   "source": [
    "height = float(height)"
   ]
  },
  {
   "cell_type": "code",
   "execution_count": 3,
   "id": "fe099110",
   "metadata": {
    "scrolled": false
   },
   "outputs": [
    {
     "name": "stdout",
     "output_type": "stream",
     "text": [
      "What is your weight? 52\n"
     ]
    }
   ],
   "source": [
    "weight = input(\"What is your weight? \")"
   ]
  },
  {
   "cell_type": "code",
   "execution_count": 4,
   "id": "8ea2f544",
   "metadata": {},
   "outputs": [],
   "source": [
    "weight = float(weight)"
   ]
  },
  {
   "cell_type": "code",
   "execution_count": 5,
   "id": "b0cb3c38",
   "metadata": {},
   "outputs": [
    {
     "name": "stdout",
     "output_type": "stream",
     "text": [
      "What is your name? Kamran Ahmed\n"
     ]
    }
   ],
   "source": [
    "name = input(\"What is your name? \")"
   ]
  },
  {
   "cell_type": "code",
   "execution_count": 6,
   "id": "9b819edd",
   "metadata": {},
   "outputs": [
    {
     "data": {
      "text/plain": [
       "17.17532038578412"
      ]
     },
     "execution_count": 6,
     "metadata": {},
     "output_type": "execute_result"
    }
   ],
   "source": [
    "BMI = weight/height**2\n",
    "BMI"
   ]
  },
  {
   "cell_type": "code",
   "execution_count": 11,
   "id": "078a1e6b",
   "metadata": {},
   "outputs": [
    {
     "name": "stdout",
     "output_type": "stream",
     "text": [
      "My name is Kamran Ahmed and my BMI is 17.17532038578412\n"
     ]
    }
   ],
   "source": [
    "print(\"My name is\", name, \"and my BMI is\", BMI)"
   ]
  }
 ],
 "metadata": {
  "kernelspec": {
   "display_name": "Python 3 (ipykernel)",
   "language": "python",
   "name": "python3"
  },
  "language_info": {
   "codemirror_mode": {
    "name": "ipython",
    "version": 3
   },
   "file_extension": ".py",
   "mimetype": "text/x-python",
   "name": "python",
   "nbconvert_exporter": "python",
   "pygments_lexer": "ipython3",
   "version": "3.9.13"
  }
 },
 "nbformat": 4,
 "nbformat_minor": 5
}
